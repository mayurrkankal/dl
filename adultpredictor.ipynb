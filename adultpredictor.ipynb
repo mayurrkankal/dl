{
 "cells": [
  {
   "cell_type": "code",
   "execution_count": null,
   "id": "06d005a5",
   "metadata": {},
   "outputs": [],
   "source": []
  },
  {
   "cell_type": "code",
   "execution_count": null,
   "id": "c870caff",
   "metadata": {},
   "outputs": [],
   "source": []
  },
  {
   "cell_type": "code",
   "execution_count": 1,
   "id": "d28ed153",
   "metadata": {},
   "outputs": [],
   "source": [
    "from tensorflow.keras.preprocessing import image"
   ]
  },
  {
   "cell_type": "code",
   "execution_count": 2,
   "id": "26ae049c",
   "metadata": {},
   "outputs": [],
   "source": [
    "from PIL import ImageFile, Image\n",
    "ImageFile.LOAD_TRUNCATED_IMAGES = True"
   ]
  },
  {
   "cell_type": "code",
   "execution_count": 3,
   "id": "ca71463c",
   "metadata": {},
   "outputs": [],
   "source": [
    "import tensorflow as tf  \n",
    "from keras.preprocessing.image import ImageDataGenerator"
   ]
  },
  {
   "cell_type": "code",
   "execution_count": null,
   "id": "583a20cd",
   "metadata": {},
   "outputs": [],
   "source": []
  },
  {
   "cell_type": "code",
   "execution_count": 4,
   "id": "53948c7f",
   "metadata": {},
   "outputs": [],
   "source": [
    "train_datagen = ImageDataGenerator(rescale = 1./255,  \n",
    "                                   shear_range = 0.2,  \n",
    "                                   zoom_range = 0.2,  \n",
    "                                   horizontal_flip = True)  "
   ]
  },
  {
   "cell_type": "code",
   "execution_count": null,
   "id": "af9997ac",
   "metadata": {},
   "outputs": [],
   "source": []
  },
  {
   "cell_type": "code",
   "execution_count": null,
   "id": "25b56133",
   "metadata": {},
   "outputs": [],
   "source": []
  },
  {
   "cell_type": "code",
   "execution_count": 5,
   "id": "b8eb1a77",
   "metadata": {},
   "outputs": [
    {
     "name": "stdout",
     "output_type": "stream",
     "text": [
      "Found 6249 images belonging to 2 classes.\n"
     ]
    }
   ],
   "source": [
    "training_set = train_datagen.flow_from_directory('C:/Users/HI/Desktop/mk/adultclassifier/adult/train',  \n",
    "                                                 target_size = (64, 64),  \n",
    "                                                 batch_size = 32,  \n",
    "                                                 class_mode = 'binary')  "
   ]
  },
  {
   "cell_type": "code",
   "execution_count": null,
   "id": "79b47bc9",
   "metadata": {},
   "outputs": [],
   "source": []
  },
  {
   "cell_type": "code",
   "execution_count": 6,
   "id": "5c36f47b",
   "metadata": {},
   "outputs": [],
   "source": [
    "test_datagen = ImageDataGenerator(rescale = 1./255)  \n"
   ]
  },
  {
   "cell_type": "code",
   "execution_count": 7,
   "id": "e1f4a0a5",
   "metadata": {},
   "outputs": [
    {
     "name": "stdout",
     "output_type": "stream",
     "text": [
      "Found 6214 images belonging to 2 classes.\n"
     ]
    }
   ],
   "source": [
    "test_set = test_datagen.flow_from_directory('C:/Users/HI/Desktop/mk/adultclassifier/adult/test1',  \n",
    "                                            target_size = (64, 64),  \n",
    "                                            batch_size = 32,  \n",
    "                                            class_mode = 'binary')  \n"
   ]
  },
  {
   "cell_type": "code",
   "execution_count": null,
   "id": "c4c6adb4",
   "metadata": {},
   "outputs": [],
   "source": []
  },
  {
   "cell_type": "code",
   "execution_count": 8,
   "id": "289d30de",
   "metadata": {},
   "outputs": [],
   "source": [
    "# Part2: Building the CNN"
   ]
  },
  {
   "cell_type": "code",
   "execution_count": 9,
   "id": "1cbc40c1",
   "metadata": {},
   "outputs": [],
   "source": [
    "# Initializing the CNN"
   ]
  },
  {
   "cell_type": "code",
   "execution_count": 10,
   "id": "cc185ff1",
   "metadata": {},
   "outputs": [],
   "source": [
    "cnn = tf.keras.models.Sequential()  "
   ]
  },
  {
   "cell_type": "code",
   "execution_count": null,
   "id": "2e71cba0",
   "metadata": {},
   "outputs": [],
   "source": []
  },
  {
   "cell_type": "code",
   "execution_count": 11,
   "id": "87667f3d",
   "metadata": {},
   "outputs": [],
   "source": [
    "# Step1: Convolution"
   ]
  },
  {
   "cell_type": "code",
   "execution_count": null,
   "id": "f1cf6468",
   "metadata": {},
   "outputs": [],
   "source": []
  },
  {
   "cell_type": "code",
   "execution_count": 12,
   "id": "2d3d338a",
   "metadata": {},
   "outputs": [],
   "source": [
    "cnn.add(tf.keras.layers.Conv2D(filters=32, kernel_size=3, activation='relu', input_shape=[64, 64, 3]))  "
   ]
  },
  {
   "cell_type": "code",
   "execution_count": null,
   "id": "6813093a",
   "metadata": {},
   "outputs": [],
   "source": []
  },
  {
   "cell_type": "code",
   "execution_count": 13,
   "id": "932c6ac1",
   "metadata": {},
   "outputs": [],
   "source": [
    "# Step2: Pooling"
   ]
  },
  {
   "cell_type": "code",
   "execution_count": 14,
   "id": "4ae4d569",
   "metadata": {},
   "outputs": [],
   "source": [
    "cnn.add(tf.keras.layers.MaxPool2D(pool_size=2, strides=2))  "
   ]
  },
  {
   "cell_type": "code",
   "execution_count": 15,
   "id": "b9ea7cf2",
   "metadata": {},
   "outputs": [],
   "source": [
    "# Adding a second layer"
   ]
  },
  {
   "cell_type": "code",
   "execution_count": null,
   "id": "8c385300",
   "metadata": {},
   "outputs": [],
   "source": []
  },
  {
   "cell_type": "code",
   "execution_count": 16,
   "id": "78d5bc22",
   "metadata": {},
   "outputs": [],
   "source": [
    "cnn.add(tf.keras.layers.Conv2D(filters=32, kernel_size=3, activation='relu'))  \n",
    "cnn.add(tf.keras.layers.MaxPool2D(pool_size=2, strides=2))  "
   ]
  },
  {
   "cell_type": "code",
   "execution_count": null,
   "id": "3a8976c6",
   "metadata": {},
   "outputs": [],
   "source": []
  },
  {
   "cell_type": "code",
   "execution_count": 17,
   "id": "ae47cee3",
   "metadata": {},
   "outputs": [],
   "source": [
    "# Step3: Flattening"
   ]
  },
  {
   "cell_type": "code",
   "execution_count": 18,
   "id": "c53e9e9e",
   "metadata": {},
   "outputs": [],
   "source": [
    "cnn.add(tf.keras.layers.Flatten())  "
   ]
  },
  {
   "cell_type": "code",
   "execution_count": null,
   "id": "54fc35b6",
   "metadata": {},
   "outputs": [],
   "source": []
  },
  {
   "cell_type": "code",
   "execution_count": 19,
   "id": "4bdf1157",
   "metadata": {},
   "outputs": [],
   "source": [
    "# Step4: Full Conversion"
   ]
  },
  {
   "cell_type": "code",
   "execution_count": null,
   "id": "df80bd11",
   "metadata": {},
   "outputs": [],
   "source": []
  },
  {
   "cell_type": "code",
   "execution_count": 20,
   "id": "fbefa3fe",
   "metadata": {},
   "outputs": [],
   "source": [
    "cnn.add(tf.keras.layers.Dense(units=128, activation='relu'))  "
   ]
  },
  {
   "cell_type": "code",
   "execution_count": null,
   "id": "55ab09ab",
   "metadata": {},
   "outputs": [],
   "source": []
  },
  {
   "cell_type": "code",
   "execution_count": 21,
   "id": "b79376df",
   "metadata": {},
   "outputs": [],
   "source": [
    "# Step5: Output Layer"
   ]
  },
  {
   "cell_type": "code",
   "execution_count": 22,
   "id": "99a3ab7a",
   "metadata": {},
   "outputs": [],
   "source": [
    "cnn.add(tf.keras.layers.Dense(units=1, activation='sigmoid'))  "
   ]
  },
  {
   "cell_type": "code",
   "execution_count": null,
   "id": "90f5ce54",
   "metadata": {},
   "outputs": [],
   "source": []
  },
  {
   "cell_type": "code",
   "execution_count": 23,
   "id": "40f17484",
   "metadata": {},
   "outputs": [],
   "source": [
    "# Part3: Training the CNN"
   ]
  },
  {
   "cell_type": "code",
   "execution_count": null,
   "id": "aecf6795",
   "metadata": {},
   "outputs": [],
   "source": []
  },
  {
   "cell_type": "code",
   "execution_count": 24,
   "id": "23225095",
   "metadata": {},
   "outputs": [],
   "source": [
    "# Compiling the CNN"
   ]
  },
  {
   "cell_type": "code",
   "execution_count": 25,
   "id": "e36fd8a7",
   "metadata": {},
   "outputs": [],
   "source": [
    "cnn.compile(optimizer = 'adam', loss = 'binary_crossentropy', metrics = ['accuracy'])  "
   ]
  },
  {
   "cell_type": "code",
   "execution_count": null,
   "id": "8250efd8",
   "metadata": {},
   "outputs": [],
   "source": []
  },
  {
   "cell_type": "code",
   "execution_count": 26,
   "id": "7df9ecc6",
   "metadata": {},
   "outputs": [],
   "source": [
    "# Training the CNN on the Training set and evaluation on the Test set"
   ]
  },
  {
   "cell_type": "code",
   "execution_count": null,
   "id": "c832bbdf",
   "metadata": {},
   "outputs": [],
   "source": []
  },
  {
   "cell_type": "code",
   "execution_count": 27,
   "id": "978cc1b9",
   "metadata": {},
   "outputs": [
    {
     "name": "stdout",
     "output_type": "stream",
     "text": [
      "Epoch 1/100\n",
      "196/196 [==============================] - 128s 652ms/step - loss: 0.5520 - accuracy: 0.7172 - val_loss: 0.5211 - val_accuracy: 0.7679\n",
      "Epoch 2/100\n",
      "196/196 [==============================] - 205s 1s/step - loss: 0.4591 - accuracy: 0.7920 - val_loss: 0.5015 - val_accuracy: 0.7768\n",
      "Epoch 3/100\n",
      "196/196 [==============================] - 304s 2s/step - loss: 0.4068 - accuracy: 0.8179 - val_loss: 0.5357 - val_accuracy: 0.7543\n",
      "Epoch 4/100\n",
      "196/196 [==============================] - 309s 2s/step - loss: 0.3662 - accuracy: 0.8432 - val_loss: 0.4259 - val_accuracy: 0.8053\n",
      "Epoch 5/100\n",
      "196/196 [==============================] - 254s 1s/step - loss: 0.3439 - accuracy: 0.8561 - val_loss: 0.3837 - val_accuracy: 0.8347\n",
      "Epoch 6/100\n",
      "196/196 [==============================] - 262s 1s/step - loss: 0.3154 - accuracy: 0.8675 - val_loss: 0.3872 - val_accuracy: 0.8288\n",
      "Epoch 7/100\n",
      "196/196 [==============================] - 253s 1s/step - loss: 0.2927 - accuracy: 0.8785 - val_loss: 0.3912 - val_accuracy: 0.8336\n",
      "Epoch 8/100\n",
      "196/196 [==============================] - 250s 1s/step - loss: 0.2812 - accuracy: 0.8803 - val_loss: 0.4883 - val_accuracy: 0.8032\n",
      "Epoch 9/100\n",
      "196/196 [==============================] - 256s 1s/step - loss: 0.2680 - accuracy: 0.8896 - val_loss: 0.4000 - val_accuracy: 0.8278\n",
      "Epoch 10/100\n",
      "196/196 [==============================] - 252s 1s/step - loss: 0.2436 - accuracy: 0.8985 - val_loss: 0.5355 - val_accuracy: 0.8040\n",
      "Epoch 11/100\n",
      "196/196 [==============================] - 261s 1s/step - loss: 0.2417 - accuracy: 0.9019 - val_loss: 0.5015 - val_accuracy: 0.7929\n",
      "Epoch 12/100\n",
      "196/196 [==============================] - 248s 1s/step - loss: 0.2305 - accuracy: 0.9048 - val_loss: 0.4461 - val_accuracy: 0.8318\n",
      "Epoch 13/100\n",
      "196/196 [==============================] - 259s 1s/step - loss: 0.2062 - accuracy: 0.9185 - val_loss: 0.3939 - val_accuracy: 0.8439\n",
      "Epoch 14/100\n",
      "196/196 [==============================] - 226s 1s/step - loss: 0.2009 - accuracy: 0.9200 - val_loss: 0.3971 - val_accuracy: 0.8563\n",
      "Epoch 15/100\n",
      "196/196 [==============================] - 170s 870ms/step - loss: 0.1784 - accuracy: 0.9269 - val_loss: 0.5482 - val_accuracy: 0.8256\n",
      "Epoch 16/100\n",
      "196/196 [==============================] - 171s 871ms/step - loss: 0.1831 - accuracy: 0.9254 - val_loss: 0.4431 - val_accuracy: 0.8449\n",
      "Epoch 17/100\n",
      "196/196 [==============================] - 163s 834ms/step - loss: 0.1729 - accuracy: 0.9317 - val_loss: 0.4165 - val_accuracy: 0.8367\n",
      "Epoch 18/100\n",
      "196/196 [==============================] - 173s 886ms/step - loss: 0.1540 - accuracy: 0.9361 - val_loss: 0.4642 - val_accuracy: 0.8378\n",
      "Epoch 19/100\n",
      "196/196 [==============================] - 173s 886ms/step - loss: 0.1458 - accuracy: 0.9422 - val_loss: 0.4978 - val_accuracy: 0.8429\n",
      "Epoch 20/100\n",
      "196/196 [==============================] - 173s 887ms/step - loss: 0.1331 - accuracy: 0.9523 - val_loss: 0.4922 - val_accuracy: 0.8455\n",
      "Epoch 21/100\n",
      "196/196 [==============================] - 190s 969ms/step - loss: 0.1398 - accuracy: 0.9466 - val_loss: 0.4721 - val_accuracy: 0.8379\n",
      "Epoch 22/100\n",
      "196/196 [==============================] - 176s 903ms/step - loss: 0.1249 - accuracy: 0.9518 - val_loss: 0.5349 - val_accuracy: 0.8396\n",
      "Epoch 23/100\n",
      "196/196 [==============================] - 177s 905ms/step - loss: 0.1144 - accuracy: 0.9578 - val_loss: 0.4964 - val_accuracy: 0.8444\n",
      "Epoch 24/100\n",
      "196/196 [==============================] - 160s 817ms/step - loss: 0.1195 - accuracy: 0.9550 - val_loss: 0.4984 - val_accuracy: 0.8458\n",
      "Epoch 25/100\n",
      "196/196 [==============================] - 159s 815ms/step - loss: 0.1029 - accuracy: 0.9589 - val_loss: 0.5365 - val_accuracy: 0.8407\n",
      "Epoch 26/100\n",
      "196/196 [==============================] - 150s 766ms/step - loss: 0.0878 - accuracy: 0.9682 - val_loss: 0.7036 - val_accuracy: 0.8362\n",
      "Epoch 27/100\n",
      "196/196 [==============================] - 159s 811ms/step - loss: 0.0830 - accuracy: 0.9690 - val_loss: 0.5950 - val_accuracy: 0.8354\n",
      "Epoch 28/100\n",
      "196/196 [==============================] - 155s 793ms/step - loss: 0.0834 - accuracy: 0.9667 - val_loss: 0.7326 - val_accuracy: 0.8296\n",
      "Epoch 29/100\n",
      "196/196 [==============================] - 153s 782ms/step - loss: 0.0815 - accuracy: 0.9680 - val_loss: 0.5842 - val_accuracy: 0.8473\n",
      "Epoch 30/100\n",
      "196/196 [==============================] - 149s 759ms/step - loss: 0.0801 - accuracy: 0.9710 - val_loss: 0.6805 - val_accuracy: 0.8145\n",
      "Epoch 31/100\n",
      "196/196 [==============================] - 160s 820ms/step - loss: 0.0646 - accuracy: 0.9776 - val_loss: 0.6280 - val_accuracy: 0.8508\n",
      "Epoch 32/100\n",
      "196/196 [==============================] - 155s 794ms/step - loss: 0.0823 - accuracy: 0.9712 - val_loss: 0.6331 - val_accuracy: 0.8462\n",
      "Epoch 33/100\n",
      "196/196 [==============================] - 159s 815ms/step - loss: 0.0654 - accuracy: 0.9770 - val_loss: 0.5900 - val_accuracy: 0.8505\n",
      "Epoch 34/100\n",
      "196/196 [==============================] - 161s 824ms/step - loss: 0.0509 - accuracy: 0.9816 - val_loss: 0.7011 - val_accuracy: 0.8384\n",
      "Epoch 35/100\n",
      "196/196 [==============================] - 151s 770ms/step - loss: 0.0580 - accuracy: 0.9766 - val_loss: 0.8449 - val_accuracy: 0.8384\n",
      "Epoch 36/100\n",
      "196/196 [==============================] - 188s 962ms/step - loss: 0.0586 - accuracy: 0.9798 - val_loss: 0.6615 - val_accuracy: 0.8375\n",
      "Epoch 37/100\n",
      "196/196 [==============================] - 162s 830ms/step - loss: 0.0522 - accuracy: 0.9826 - val_loss: 0.8403 - val_accuracy: 0.8286\n",
      "Epoch 38/100\n",
      "196/196 [==============================] - 254s 1s/step - loss: 0.0486 - accuracy: 0.9832 - val_loss: 0.9215 - val_accuracy: 0.8397\n",
      "Epoch 39/100\n",
      "196/196 [==============================] - 266s 1s/step - loss: 0.0521 - accuracy: 0.9830 - val_loss: 0.9501 - val_accuracy: 0.8217\n",
      "Epoch 40/100\n",
      "196/196 [==============================] - 184s 938ms/step - loss: 0.0393 - accuracy: 0.9851 - val_loss: 0.8791 - val_accuracy: 0.8116\n",
      "Epoch 41/100\n",
      "196/196 [==============================] - 176s 900ms/step - loss: 0.0548 - accuracy: 0.9802 - val_loss: 0.7839 - val_accuracy: 0.8439\n",
      "Epoch 42/100\n",
      "196/196 [==============================] - 162s 830ms/step - loss: 0.0360 - accuracy: 0.9864 - val_loss: 0.7305 - val_accuracy: 0.8450\n",
      "Epoch 43/100\n",
      "196/196 [==============================] - 170s 872ms/step - loss: 0.0445 - accuracy: 0.9846 - val_loss: 0.7527 - val_accuracy: 0.8555\n",
      "Epoch 44/100\n",
      "196/196 [==============================] - 158s 808ms/step - loss: 0.0548 - accuracy: 0.9805 - val_loss: 0.7325 - val_accuracy: 0.8468\n",
      "Epoch 45/100\n",
      "196/196 [==============================] - 183s 934ms/step - loss: 0.0474 - accuracy: 0.9837 - val_loss: 1.0168 - val_accuracy: 0.8201\n",
      "Epoch 46/100\n",
      "196/196 [==============================] - 171s 871ms/step - loss: 0.0358 - accuracy: 0.9861 - val_loss: 0.7709 - val_accuracy: 0.8500\n",
      "Epoch 47/100\n",
      "196/196 [==============================] - 157s 804ms/step - loss: 0.0393 - accuracy: 0.9875 - val_loss: 0.7742 - val_accuracy: 0.8436\n",
      "Epoch 48/100\n",
      "196/196 [==============================] - 176s 898ms/step - loss: 0.0355 - accuracy: 0.9875 - val_loss: 0.7172 - val_accuracy: 0.8584\n",
      "Epoch 49/100\n",
      "196/196 [==============================] - 176s 898ms/step - loss: 0.0396 - accuracy: 0.9862 - val_loss: 0.7587 - val_accuracy: 0.8521\n",
      "Epoch 50/100\n",
      "196/196 [==============================] - 181s 926ms/step - loss: 0.0391 - accuracy: 0.9867 - val_loss: 0.9412 - val_accuracy: 0.8437\n",
      "Epoch 51/100\n",
      "196/196 [==============================] - 184s 938ms/step - loss: 0.0408 - accuracy: 0.9850 - val_loss: 0.9152 - val_accuracy: 0.8362\n",
      "Epoch 52/100\n",
      "196/196 [==============================] - 192s 980ms/step - loss: 0.0331 - accuracy: 0.9898 - val_loss: 0.8553 - val_accuracy: 0.8418\n",
      "Epoch 53/100\n",
      "196/196 [==============================] - 201s 1s/step - loss: 0.0424 - accuracy: 0.9869 - val_loss: 0.8361 - val_accuracy: 0.8389\n",
      "Epoch 54/100\n",
      "196/196 [==============================] - 206s 1s/step - loss: 0.0297 - accuracy: 0.9902 - val_loss: 0.9860 - val_accuracy: 0.8275\n",
      "Epoch 55/100\n",
      "196/196 [==============================] - 212s 1s/step - loss: 0.0260 - accuracy: 0.9907 - val_loss: 1.0195 - val_accuracy: 0.8312\n",
      "Epoch 56/100\n",
      "196/196 [==============================] - 207s 1s/step - loss: 0.0297 - accuracy: 0.9912 - val_loss: 1.0138 - val_accuracy: 0.8397\n"
     ]
    },
    {
     "name": "stdout",
     "output_type": "stream",
     "text": [
      "Epoch 57/100\n",
      "196/196 [==============================] - 196s 1s/step - loss: 0.0273 - accuracy: 0.9896 - val_loss: 1.1529 - val_accuracy: 0.8317\n",
      "Epoch 58/100\n",
      "196/196 [==============================] - 182s 929ms/step - loss: 0.0305 - accuracy: 0.9891 - val_loss: 0.9079 - val_accuracy: 0.8378\n",
      "Epoch 59/100\n",
      "196/196 [==============================] - 165s 843ms/step - loss: 0.0448 - accuracy: 0.9854 - val_loss: 1.0327 - val_accuracy: 0.8272\n",
      "Epoch 60/100\n",
      "196/196 [==============================] - 176s 901ms/step - loss: 0.0357 - accuracy: 0.9880 - val_loss: 1.0990 - val_accuracy: 0.8093\n",
      "Epoch 61/100\n",
      "196/196 [==============================] - 191s 975ms/step - loss: 0.0308 - accuracy: 0.9896 - val_loss: 1.0184 - val_accuracy: 0.8305\n",
      "Epoch 62/100\n",
      "196/196 [==============================] - 192s 982ms/step - loss: 0.0273 - accuracy: 0.9898 - val_loss: 0.9206 - val_accuracy: 0.8425\n",
      "Epoch 63/100\n",
      "196/196 [==============================] - 181s 926ms/step - loss: 0.0349 - accuracy: 0.9869 - val_loss: 0.9795 - val_accuracy: 0.8347\n",
      "Epoch 64/100\n",
      "196/196 [==============================] - 192s 981ms/step - loss: 0.0207 - accuracy: 0.9915 - val_loss: 1.1899 - val_accuracy: 0.8172\n",
      "Epoch 65/100\n",
      "196/196 [==============================] - 182s 928ms/step - loss: 0.0303 - accuracy: 0.9898 - val_loss: 1.0164 - val_accuracy: 0.8259\n",
      "Epoch 66/100\n",
      "196/196 [==============================] - 189s 967ms/step - loss: 0.0178 - accuracy: 0.9941 - val_loss: 0.9112 - val_accuracy: 0.8561\n",
      "Epoch 67/100\n",
      "196/196 [==============================] - 166s 848ms/step - loss: 0.0299 - accuracy: 0.9883 - val_loss: 0.9749 - val_accuracy: 0.8354\n",
      "Epoch 68/100\n",
      "196/196 [==============================] - 170s 869ms/step - loss: 0.0317 - accuracy: 0.9890 - val_loss: 0.9035 - val_accuracy: 0.8349\n",
      "Epoch 69/100\n",
      "196/196 [==============================] - 171s 874ms/step - loss: 0.0356 - accuracy: 0.9877 - val_loss: 1.0123 - val_accuracy: 0.8400\n",
      "Epoch 70/100\n",
      "196/196 [==============================] - 171s 874ms/step - loss: 0.0248 - accuracy: 0.9914 - val_loss: 0.8510 - val_accuracy: 0.8579\n",
      "Epoch 71/100\n",
      "196/196 [==============================] - 172s 879ms/step - loss: 0.0131 - accuracy: 0.9960 - val_loss: 1.1761 - val_accuracy: 0.8476\n",
      "Epoch 72/100\n",
      "196/196 [==============================] - 175s 893ms/step - loss: 0.0181 - accuracy: 0.9944 - val_loss: 1.0252 - val_accuracy: 0.8531\n",
      "Epoch 73/100\n",
      "196/196 [==============================] - 175s 893ms/step - loss: 0.0299 - accuracy: 0.9898 - val_loss: 1.0269 - val_accuracy: 0.8479\n",
      "Epoch 74/100\n",
      "196/196 [==============================] - 169s 865ms/step - loss: 0.0351 - accuracy: 0.9878 - val_loss: 0.9869 - val_accuracy: 0.8299\n",
      "Epoch 75/100\n",
      "196/196 [==============================] - 177s 903ms/step - loss: 0.0297 - accuracy: 0.9909 - val_loss: 1.1458 - val_accuracy: 0.8326\n",
      "Epoch 76/100\n",
      "196/196 [==============================] - 168s 861ms/step - loss: 0.0157 - accuracy: 0.9949 - val_loss: 1.0959 - val_accuracy: 0.8439\n",
      "Epoch 77/100\n",
      "196/196 [==============================] - 170s 869ms/step - loss: 0.0243 - accuracy: 0.9910 - val_loss: 1.0467 - val_accuracy: 0.8391\n",
      "Epoch 78/100\n",
      "196/196 [==============================] - 188s 960ms/step - loss: 0.0202 - accuracy: 0.9931 - val_loss: 1.0146 - val_accuracy: 0.8471\n",
      "Epoch 79/100\n",
      "196/196 [==============================] - 195s 995ms/step - loss: 0.0273 - accuracy: 0.9907 - val_loss: 1.0041 - val_accuracy: 0.8453\n",
      "Epoch 80/100\n",
      "196/196 [==============================] - 187s 956ms/step - loss: 0.0159 - accuracy: 0.9949 - val_loss: 1.2581 - val_accuracy: 0.8342\n",
      "Epoch 81/100\n",
      "196/196 [==============================] - 188s 959ms/step - loss: 0.0228 - accuracy: 0.9923 - val_loss: 1.1952 - val_accuracy: 0.8246\n",
      "Epoch 82/100\n",
      "196/196 [==============================] - 161s 823ms/step - loss: 0.0248 - accuracy: 0.9920 - val_loss: 1.0503 - val_accuracy: 0.8394\n",
      "Epoch 83/100\n",
      "196/196 [==============================] - 157s 802ms/step - loss: 0.0235 - accuracy: 0.9925 - val_loss: 1.2491 - val_accuracy: 0.8415\n",
      "Epoch 84/100\n",
      "196/196 [==============================] - 166s 845ms/step - loss: 0.0309 - accuracy: 0.9901 - val_loss: 0.9553 - val_accuracy: 0.8434\n",
      "Epoch 85/100\n",
      "196/196 [==============================] - 171s 872ms/step - loss: 0.0151 - accuracy: 0.9946 - val_loss: 1.1043 - val_accuracy: 0.8423\n",
      "Epoch 86/100\n",
      "196/196 [==============================] - 163s 835ms/step - loss: 0.0206 - accuracy: 0.9941 - val_loss: 1.1426 - val_accuracy: 0.8433\n",
      "Epoch 87/100\n",
      "196/196 [==============================] - 168s 856ms/step - loss: 0.0137 - accuracy: 0.9962 - val_loss: 1.0654 - val_accuracy: 0.8491\n",
      "Epoch 88/100\n",
      "196/196 [==============================] - 160s 815ms/step - loss: 0.0203 - accuracy: 0.9930 - val_loss: 1.0596 - val_accuracy: 0.8473\n",
      "Epoch 89/100\n",
      "196/196 [==============================] - 173s 885ms/step - loss: 0.0314 - accuracy: 0.9870 - val_loss: 1.4797 - val_accuracy: 0.8236\n",
      "Epoch 90/100\n",
      "196/196 [==============================] - 171s 872ms/step - loss: 0.0384 - accuracy: 0.9874 - val_loss: 1.1031 - val_accuracy: 0.8318\n",
      "Epoch 91/100\n",
      "196/196 [==============================] - 169s 865ms/step - loss: 0.0214 - accuracy: 0.9934 - val_loss: 1.1635 - val_accuracy: 0.8297\n",
      "Epoch 92/100\n",
      "196/196 [==============================] - 167s 856ms/step - loss: 0.0133 - accuracy: 0.9952 - val_loss: 1.0985 - val_accuracy: 0.8429\n",
      "Epoch 93/100\n",
      "196/196 [==============================] - 208s 1s/step - loss: 0.0087 - accuracy: 0.9973 - val_loss: 1.2688 - val_accuracy: 0.8402\n",
      "Epoch 94/100\n",
      "196/196 [==============================] - 190s 970ms/step - loss: 0.0181 - accuracy: 0.9941 - val_loss: 1.4236 - val_accuracy: 0.8251\n",
      "Epoch 95/100\n",
      "196/196 [==============================] - 207s 1s/step - loss: 0.0251 - accuracy: 0.9925 - val_loss: 1.3172 - val_accuracy: 0.8228\n",
      "Epoch 96/100\n",
      "196/196 [==============================] - 184s 942ms/step - loss: 0.0136 - accuracy: 0.9952 - val_loss: 1.1781 - val_accuracy: 0.8325\n",
      "Epoch 97/100\n",
      "196/196 [==============================] - 169s 864ms/step - loss: 0.0112 - accuracy: 0.9958 - val_loss: 1.2566 - val_accuracy: 0.8450\n",
      "Epoch 98/100\n",
      "196/196 [==============================] - 180s 918ms/step - loss: 0.0210 - accuracy: 0.9931 - val_loss: 1.3301 - val_accuracy: 0.8272\n",
      "Epoch 99/100\n",
      "196/196 [==============================] - 162s 825ms/step - loss: 0.0204 - accuracy: 0.9931 - val_loss: 1.1784 - val_accuracy: 0.8544\n",
      "Epoch 100/100\n",
      "196/196 [==============================] - 167s 851ms/step - loss: 0.0380 - accuracy: 0.9875 - val_loss: 1.2840 - val_accuracy: 0.8202\n"
     ]
    },
    {
     "data": {
      "text/plain": [
       "<keras.callbacks.History at 0x1f9eb3ead10>"
      ]
     },
     "execution_count": 27,
     "metadata": {},
     "output_type": "execute_result"
    }
   ],
   "source": [
    "cnn.fit(x = training_set, validation_data = test_set, epochs = 100)  "
   ]
  },
  {
   "cell_type": "code",
   "execution_count": null,
   "id": "d4209791",
   "metadata": {},
   "outputs": [],
   "source": []
  },
  {
   "cell_type": "code",
   "execution_count": 41,
   "id": "708e9a0a",
   "metadata": {},
   "outputs": [
    {
     "data": {
      "text/plain": [
       "{'1': 0, '2': 1}"
      ]
     },
     "execution_count": 41,
     "metadata": {},
     "output_type": "execute_result"
    }
   ],
   "source": [
    "test_set.class_indices  "
   ]
  },
  {
   "cell_type": "code",
   "execution_count": null,
   "id": "06dcc3dd",
   "metadata": {},
   "outputs": [],
   "source": []
  },
  {
   "cell_type": "code",
   "execution_count": 42,
   "id": "0ba34d30",
   "metadata": {},
   "outputs": [
    {
     "data": {
      "text/plain": [
       "{'1': 0, '2': 1}"
      ]
     },
     "execution_count": 42,
     "metadata": {},
     "output_type": "execute_result"
    }
   ],
   "source": [
    "training_set.class_indices  "
   ]
  },
  {
   "cell_type": "code",
   "execution_count": null,
   "id": "936d3e95",
   "metadata": {},
   "outputs": [],
   "source": []
  },
  {
   "cell_type": "code",
   "execution_count": null,
   "id": "c303f71a",
   "metadata": {},
   "outputs": [],
   "source": []
  },
  {
   "cell_type": "code",
   "execution_count": 30,
   "id": "d4102c16",
   "metadata": {},
   "outputs": [],
   "source": [
    "# Part4: Making a single prediction"
   ]
  },
  {
   "cell_type": "code",
   "execution_count": null,
   "id": "56b93dbf",
   "metadata": {},
   "outputs": [],
   "source": []
  },
  {
   "cell_type": "code",
   "execution_count": 43,
   "id": "de932d19",
   "metadata": {},
   "outputs": [
    {
     "name": "stdout",
     "output_type": "stream",
     "text": [
      "1/1 [==============================] - 0s 78ms/step\n",
      "not adult\n",
      "0.0\n"
     ]
    }
   ],
   "source": [
    "import numpy as np  \n",
    "import keras.utils as image\n",
    "\n",
    "test_image = image.load_img('C:/Users/HI/Desktop/mk/adultclassifier/adult/na.jpg', target_size = (64, 64))  \n",
    "test_image = image.img_to_array(test_image) \n",
    "test_image = np.expand_dims(test_image, axis = 0)  \n",
    "result = cnn.predict(test_image)  \n",
    "\n",
    "if result[0][0] == 1:  \n",
    "  prediction = 'adult'  \n",
    "else:  \n",
    "  prediction = 'not adult'  \n",
    "  \n",
    "print(prediction)\n",
    "print(result[0][0])"
   ]
  },
  {
   "cell_type": "code",
   "execution_count": null,
   "id": "f4f66de2",
   "metadata": {},
   "outputs": [],
   "source": []
  },
  {
   "cell_type": "code",
   "execution_count": null,
   "id": "f3ca8c79",
   "metadata": {},
   "outputs": [],
   "source": []
  },
  {
   "cell_type": "code",
   "execution_count": 44,
   "id": "9232e71d",
   "metadata": {},
   "outputs": [
    {
     "name": "stdout",
     "output_type": "stream",
     "text": [
      "1/1 [==============================] - 0s 94ms/step\n",
      "adult\n",
      "1.0\n"
     ]
    }
   ],
   "source": [
    "test_image = image.load_img('C:/Users/HI/Desktop/mk/adultclassifier/adult/na2.jpg', target_size = (64, 64))  \n",
    "test_image = image.img_to_array(test_image) \n",
    "test_image = np.expand_dims(test_image, axis = 0)  \n",
    "result = cnn.predict(test_image) \n",
    "\n",
    "if result[0][0] == 1:  \n",
    "  prediction = 'adult'  \n",
    "else:  \n",
    "  prediction = 'not adult'  \n",
    "  \n",
    "print(prediction)\n",
    "print(result[0][0])"
   ]
  },
  {
   "cell_type": "code",
   "execution_count": null,
   "id": "18465bd6",
   "metadata": {},
   "outputs": [],
   "source": []
  },
  {
   "cell_type": "code",
   "execution_count": null,
   "id": "e4a309e0",
   "metadata": {},
   "outputs": [],
   "source": []
  },
  {
   "cell_type": "code",
   "execution_count": 45,
   "id": "9b627966",
   "metadata": {},
   "outputs": [
    {
     "name": "stdout",
     "output_type": "stream",
     "text": [
      "1/1 [==============================] - 0s 147ms/step\n",
      "not adult\n",
      "0.0\n"
     ]
    }
   ],
   "source": [
    "test_image = image.load_img('C:/Users/HI/Desktop/mk/adultclassifier/adult/na3.jpg', target_size = (64, 64))  \n",
    "test_image = image.img_to_array(test_image) \n",
    "test_image = np.expand_dims(test_image, axis = 0)  \n",
    "result = cnn.predict(test_image) \n",
    "\n",
    "if result[0][0] == 1:  \n",
    "  prediction = 'adult'  \n",
    "else:  \n",
    "  prediction = 'not adult'  \n",
    "  \n",
    "print(prediction)\n",
    "print(result[0][0])"
   ]
  },
  {
   "cell_type": "code",
   "execution_count": null,
   "id": "c0978f6a",
   "metadata": {},
   "outputs": [],
   "source": []
  },
  {
   "cell_type": "code",
   "execution_count": null,
   "id": "31491a7a",
   "metadata": {},
   "outputs": [],
   "source": []
  },
  {
   "cell_type": "code",
   "execution_count": 46,
   "id": "8283ea34",
   "metadata": {},
   "outputs": [
    {
     "name": "stdout",
     "output_type": "stream",
     "text": [
      "1/1 [==============================] - 0s 85ms/step\n",
      "not adult\n",
      "0.0\n"
     ]
    }
   ],
   "source": [
    "test_image = image.load_img('C:/Users/HI/Desktop/mk/adultclassifier/adult/ad8.JFIF', target_size = (64, 64))  \n",
    "test_image = image.img_to_array(test_image) \n",
    "test_image = np.expand_dims(test_image, axis = 0)  \n",
    "result = cnn.predict(test_image) \n",
    "\n",
    "if result[0][0] == 1:  \n",
    "  prediction = 'adult'  \n",
    "else:  \n",
    "  prediction = 'not adult'  \n",
    "  \n",
    "print(prediction)\n",
    "print(result[0][0])"
   ]
  },
  {
   "cell_type": "code",
   "execution_count": null,
   "id": "6953f082",
   "metadata": {},
   "outputs": [],
   "source": []
  },
  {
   "cell_type": "code",
   "execution_count": null,
   "id": "a85c6864",
   "metadata": {},
   "outputs": [],
   "source": []
  },
  {
   "cell_type": "code",
   "execution_count": null,
   "id": "3073b5c7",
   "metadata": {},
   "outputs": [],
   "source": []
  },
  {
   "cell_type": "code",
   "execution_count": 47,
   "id": "739d8a2d",
   "metadata": {},
   "outputs": [
    {
     "name": "stdout",
     "output_type": "stream",
     "text": [
      "1/1 [==============================] - 0s 100ms/step\n",
      "not adult\n",
      "0.0\n"
     ]
    }
   ],
   "source": [
    "test_image = image.load_img('C:/Users/HI/Desktop/mk/adultclassifier/adult/ad9.JFIF', target_size = (64, 64))  \n",
    "test_image = image.img_to_array(test_image) \n",
    "test_image = np.expand_dims(test_image, axis = 0)  \n",
    "result = cnn.predict(test_image) \n",
    "\n",
    "if result[0][0] == 1:  \n",
    "  prediction = 'adult'  \n",
    "else:  \n",
    "  prediction = 'not adult'  \n",
    "  \n",
    "print(prediction)\n",
    "print(result[0][0])"
   ]
  },
  {
   "cell_type": "code",
   "execution_count": null,
   "id": "0b611a44",
   "metadata": {},
   "outputs": [],
   "source": []
  },
  {
   "cell_type": "code",
   "execution_count": 48,
   "id": "9bad4b6f",
   "metadata": {},
   "outputs": [
    {
     "name": "stdout",
     "output_type": "stream",
     "text": [
      "1/1 [==============================] - 0s 139ms/step\n",
      "adult\n",
      "1.0\n"
     ]
    }
   ],
   "source": [
    "test_image = image.load_img('C:/Users/HI/Desktop/mk/adultclassifier/adult/ad12.jpeg', target_size = (64, 64))  \n",
    "test_image = image.img_to_array(test_image) \n",
    "test_image = np.expand_dims(test_image, axis = 0)  \n",
    "result = cnn.predict(test_image) \n",
    "\n",
    "if result[0][0] == 1:  \n",
    "  prediction = 'adult'  \n",
    "else:  \n",
    "  prediction = 'not adult'  \n",
    "  \n",
    "print(prediction)\n",
    "print(result[0][0])"
   ]
  },
  {
   "cell_type": "code",
   "execution_count": null,
   "id": "5a9e1b3f",
   "metadata": {},
   "outputs": [],
   "source": []
  },
  {
   "cell_type": "code",
   "execution_count": null,
   "id": "ab771db3",
   "metadata": {},
   "outputs": [],
   "source": []
  },
  {
   "cell_type": "code",
   "execution_count": null,
   "id": "f93b0e40",
   "metadata": {},
   "outputs": [],
   "source": []
  },
  {
   "cell_type": "code",
   "execution_count": null,
   "id": "214a93b9",
   "metadata": {},
   "outputs": [],
   "source": []
  },
  {
   "cell_type": "code",
   "execution_count": 37,
   "id": "ef1d962f",
   "metadata": {},
   "outputs": [],
   "source": [
    "# Now we will check for the other image which is of the adult"
   ]
  },
  {
   "cell_type": "code",
   "execution_count": null,
   "id": "e335fad7",
   "metadata": {},
   "outputs": [],
   "source": []
  },
  {
   "cell_type": "code",
   "execution_count": 49,
   "id": "b5de0a31",
   "metadata": {},
   "outputs": [
    {
     "name": "stdout",
     "output_type": "stream",
     "text": [
      "1/1 [==============================] - 0s 27ms/step\n",
      "not adult\n",
      "0.0\n"
     ]
    }
   ],
   "source": [
    "test_image = image.load_img('C:/Users/HI/Desktop/mk/adultclassifier/adult/ad1.jpg', target_size = (64, 64)) \n",
    "test_image = image.img_to_array(test_image)  \n",
    "test_image = np.expand_dims(test_image, axis = 0) \n",
    "result = cnn.predict(test_image)  \n",
    "\n",
    "if result[0][0] == 1:  \n",
    "  prediction = 'adult'  \n",
    "else:  \n",
    "  prediction = 'not adult'  \n",
    "  \n",
    "print(prediction)\n",
    "print(result[0][0])"
   ]
  },
  {
   "cell_type": "code",
   "execution_count": null,
   "id": "db5dd617",
   "metadata": {},
   "outputs": [],
   "source": []
  },
  {
   "cell_type": "code",
   "execution_count": null,
   "id": "d7edb26b",
   "metadata": {},
   "outputs": [],
   "source": []
  },
  {
   "cell_type": "code",
   "execution_count": 50,
   "id": "7ddc550d",
   "metadata": {},
   "outputs": [
    {
     "name": "stdout",
     "output_type": "stream",
     "text": [
      "1/1 [==============================] - 0s 75ms/step\n",
      "not adult\n",
      "0.0\n"
     ]
    }
   ],
   "source": [
    "test_image = image.load_img('C:/Users/HI/Desktop/mk/adultclassifier/adult/ad11.JFIF', target_size = (64, 64)) \n",
    "test_image = image.img_to_array(test_image)  \n",
    "test_image = np.expand_dims(test_image, axis = 0) \n",
    "result = cnn.predict(test_image)  \n",
    "\n",
    "if result[0][0] == 1:  \n",
    "  prediction = 'adult'  \n",
    "else:  \n",
    "  prediction = 'not adult'  \n",
    "  \n",
    "print(prediction)\n",
    "print(result[0][0])"
   ]
  },
  {
   "cell_type": "code",
   "execution_count": null,
   "id": "63a2c6b9",
   "metadata": {},
   "outputs": [],
   "source": []
  },
  {
   "cell_type": "code",
   "execution_count": null,
   "id": "89ffa897",
   "metadata": {},
   "outputs": [],
   "source": []
  },
  {
   "cell_type": "code",
   "execution_count": 51,
   "id": "3da58d00",
   "metadata": {},
   "outputs": [
    {
     "name": "stdout",
     "output_type": "stream",
     "text": [
      "1/1 [==============================] - 0s 89ms/step\n",
      "not adult\n",
      "0.0\n"
     ]
    }
   ],
   "source": [
    "test_image = image.load_img('C:/Users/HI/Desktop/mk/adultclassifier/adult/na8.JFIF', target_size = (64, 64)) \n",
    "test_image = image.img_to_array(test_image)  \n",
    "test_image = np.expand_dims(test_image, axis = 0) \n",
    "result = cnn.predict(test_image)  \n",
    "\n",
    "if result[0][0] == 1:  \n",
    "  prediction = 'adult'  \n",
    "else:  \n",
    "  prediction = 'not adult'  \n",
    "  \n",
    "print(prediction)\n",
    "print(result[0][0])"
   ]
  },
  {
   "cell_type": "code",
   "execution_count": null,
   "id": "33e9d233",
   "metadata": {},
   "outputs": [],
   "source": []
  },
  {
   "cell_type": "code",
   "execution_count": null,
   "id": "faf253b5",
   "metadata": {},
   "outputs": [],
   "source": []
  },
  {
   "cell_type": "code",
   "execution_count": null,
   "id": "2293dbda",
   "metadata": {},
   "outputs": [],
   "source": []
  },
  {
   "cell_type": "code",
   "execution_count": null,
   "id": "254c342b",
   "metadata": {},
   "outputs": [],
   "source": []
  },
  {
   "cell_type": "code",
   "execution_count": null,
   "id": "353f8c76",
   "metadata": {},
   "outputs": [],
   "source": []
  },
  {
   "cell_type": "code",
   "execution_count": null,
   "id": "f90d319a",
   "metadata": {},
   "outputs": [],
   "source": []
  },
  {
   "cell_type": "code",
   "execution_count": null,
   "id": "61b4d4df",
   "metadata": {},
   "outputs": [],
   "source": []
  },
  {
   "cell_type": "code",
   "execution_count": null,
   "id": "09f61fde",
   "metadata": {},
   "outputs": [],
   "source": []
  },
  {
   "cell_type": "code",
   "execution_count": null,
   "id": "fd1ac06e",
   "metadata": {},
   "outputs": [],
   "source": []
  },
  {
   "cell_type": "code",
   "execution_count": null,
   "id": "bf1f616c",
   "metadata": {},
   "outputs": [],
   "source": []
  },
  {
   "cell_type": "code",
   "execution_count": null,
   "id": "0349d6cc",
   "metadata": {},
   "outputs": [],
   "source": []
  },
  {
   "cell_type": "code",
   "execution_count": null,
   "id": "3e9ae60d",
   "metadata": {},
   "outputs": [],
   "source": []
  },
  {
   "cell_type": "code",
   "execution_count": null,
   "id": "a4d38dfa",
   "metadata": {},
   "outputs": [],
   "source": []
  },
  {
   "cell_type": "code",
   "execution_count": null,
   "id": "29a11acb",
   "metadata": {},
   "outputs": [],
   "source": []
  },
  {
   "cell_type": "code",
   "execution_count": null,
   "id": "eb0f0f18",
   "metadata": {},
   "outputs": [],
   "source": []
  },
  {
   "cell_type": "code",
   "execution_count": null,
   "id": "e78a3773",
   "metadata": {},
   "outputs": [],
   "source": []
  },
  {
   "cell_type": "code",
   "execution_count": null,
   "id": "e473df51",
   "metadata": {},
   "outputs": [],
   "source": []
  },
  {
   "cell_type": "code",
   "execution_count": null,
   "id": "c189f6b9",
   "metadata": {},
   "outputs": [],
   "source": []
  },
  {
   "cell_type": "code",
   "execution_count": null,
   "id": "1e799c2f",
   "metadata": {},
   "outputs": [],
   "source": []
  },
  {
   "cell_type": "code",
   "execution_count": null,
   "id": "7c9f9396",
   "metadata": {},
   "outputs": [],
   "source": []
  },
  {
   "cell_type": "code",
   "execution_count": null,
   "id": "0b080c03",
   "metadata": {},
   "outputs": [],
   "source": []
  }
 ],
 "metadata": {
  "kernelspec": {
   "display_name": "Python 3 (ipykernel)",
   "language": "python",
   "name": "python3"
  },
  "language_info": {
   "codemirror_mode": {
    "name": "ipython",
    "version": 3
   },
   "file_extension": ".py",
   "mimetype": "text/x-python",
   "name": "python",
   "nbconvert_exporter": "python",
   "pygments_lexer": "ipython3",
   "version": "3.10.9"
  }
 },
 "nbformat": 4,
 "nbformat_minor": 5
}
