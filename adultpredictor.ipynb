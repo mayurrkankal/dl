{
 "cells": [
  {
   "cell_type": "code",
   "execution_count": null,
   "id": "06d005a5",
   "metadata": {},
   "outputs": [],
   "source": []
  },
  {
   "cell_type": "code",
   "execution_count": null,
   "id": "c870caff",
   "metadata": {},
   "outputs": [],
   "source": []
  },
  {
   "cell_type": "code",
   "execution_count": 1,
   "id": "d28ed153",
   "metadata": {},
   "outputs": [],
   "source": [
    "from tensorflow.keras.preprocessing import image"
   ]
  },
  {
   "cell_type": "code",
   "execution_count": 2,
   "id": "26ae049c",
   "metadata": {},
   "outputs": [],
   "source": [
    "from PIL import ImageFile, Image\n",
    "ImageFile.LOAD_TRUNCATED_IMAGES = True"
   ]
  },
  {
   "cell_type": "code",
   "execution_count": 3,
   "id": "ca71463c",
   "metadata": {},
   "outputs": [],
   "source": [
    "import tensorflow as tf  \n",
    "from keras.preprocessing.image import ImageDataGenerator"
   ]
  },
  {
   "cell_type": "code",
   "execution_count": null,
   "id": "583a20cd",
   "metadata": {},
   "outputs": [],
   "source": []
  },
  {
   "cell_type": "code",
   "execution_count": 4,
   "id": "53948c7f",
   "metadata": {},
   "outputs": [],
   "source": [
    "train_datagen = ImageDataGenerator(rescale = 1./255,  \n",
    "                                   shear_range = 0.2,  \n",
    "                                   zoom_range = 0.2,  \n",
    "                                   horizontal_flip = True)  "
   ]
  },
  {
   "cell_type": "code",
   "execution_count": null,
   "id": "af9997ac",
   "metadata": {},
   "outputs": [],
   "source": []
  },
  {
   "cell_type": "code",
   "execution_count": null,
   "id": "25b56133",
   "metadata": {},
   "outputs": [],
   "source": []
  },
  {
   "cell_type": "code",
   "execution_count": 5,
   "id": "b8eb1a77",
   "metadata": {},
   "outputs": [
    {
     "name": "stdout",
     "output_type": "stream",
     "text": [
      "Found 6249 images belonging to 2 classes.\n"
     ]
    }
   ],
   "source": [
    "training_set = train_datagen.flow_from_directory('C:/Users/HI/Desktop/mk/adultclassifier/adult/train',  \n",
    "                                                 target_size = (64, 64),  \n",
    "                                                 batch_size = 32,  \n",
    "                                                 class_mode = 'binary')  "
   ]
  },
  {
   "cell_type": "code",
   "execution_count": null,
   "id": "79b47bc9",
   "metadata": {},
   "outputs": [],
   "source": []
  },
  {
   "cell_type": "code",
   "execution_count": 6,
   "id": "5c36f47b",
   "metadata": {},
   "outputs": [],
   "source": [
    "test_datagen = ImageDataGenerator(rescale = 1./255)  "
   ]
  },
  {
   "cell_type": "code",
   "execution_count": 7,
   "id": "e1f4a0a5",
   "metadata": {},
   "outputs": [
    {
     "name": "stdout",
     "output_type": "stream",
     "text": [
      "Found 6214 images belonging to 2 classes.\n"
     ]
    }
   ],
   "source": [
    "test_set = test_datagen.flow_from_directory('C:/Users/HI/Desktop/mk/adultclassifier/adult/test1',  \n",
    "                                            target_size = (64, 64),  \n",
    "                                            batch_size = 32,  \n",
    "                                            class_mode = 'binary')  \n"
   ]
  },
  {
   "cell_type": "code",
   "execution_count": null,
   "id": "c4c6adb4",
   "metadata": {},
   "outputs": [],
   "source": []
  },
  {
   "cell_type": "code",
   "execution_count": 8,
   "id": "289d30de",
   "metadata": {},
   "outputs": [],
   "source": [
    "# Part2: Building the CNN"
   ]
  },
  {
   "cell_type": "code",
   "execution_count": 9,
   "id": "1cbc40c1",
   "metadata": {},
   "outputs": [],
   "source": [
    "# Initializing the CNN"
   ]
  },
  {
   "cell_type": "code",
   "execution_count": 10,
   "id": "cc185ff1",
   "metadata": {},
   "outputs": [],
   "source": [
    "cnn = tf.keras.models.Sequential()  "
   ]
  },
  {
   "cell_type": "code",
   "execution_count": null,
   "id": "2e71cba0",
   "metadata": {},
   "outputs": [],
   "source": []
  },
  {
   "cell_type": "code",
   "execution_count": 11,
   "id": "87667f3d",
   "metadata": {},
   "outputs": [],
   "source": [
    "# Step1: Convolution"
   ]
  },
  {
   "cell_type": "code",
   "execution_count": null,
   "id": "f1cf6468",
   "metadata": {},
   "outputs": [],
   "source": []
  },
  {
   "cell_type": "code",
   "execution_count": 12,
   "id": "2d3d338a",
   "metadata": {},
   "outputs": [],
   "source": [
    "cnn.add(tf.keras.layers.Conv2D(filters=32, kernel_size=3, activation='relu', input_shape=[64, 64, 3]))  "
   ]
  },
  {
   "cell_type": "code",
   "execution_count": null,
   "id": "6813093a",
   "metadata": {},
   "outputs": [],
   "source": []
  },
  {
   "cell_type": "code",
   "execution_count": 13,
   "id": "932c6ac1",
   "metadata": {},
   "outputs": [],
   "source": [
    "# Step2: Pooling"
   ]
  },
  {
   "cell_type": "code",
   "execution_count": 14,
   "id": "4ae4d569",
   "metadata": {},
   "outputs": [],
   "source": [
    "cnn.add(tf.keras.layers.MaxPool2D(pool_size=2, strides=2))  "
   ]
  },
  {
   "cell_type": "code",
   "execution_count": 15,
   "id": "b9ea7cf2",
   "metadata": {},
   "outputs": [],
   "source": [
    "# Adding a second layer"
   ]
  },
  {
   "cell_type": "code",
   "execution_count": null,
   "id": "8c385300",
   "metadata": {},
   "outputs": [],
   "source": []
  },
  {
   "cell_type": "code",
   "execution_count": 16,
   "id": "78d5bc22",
   "metadata": {},
   "outputs": [],
   "source": [
    "cnn.add(tf.keras.layers.Conv2D(filters=32, kernel_size=3, activation='relu'))  \n",
    "cnn.add(tf.keras.layers.MaxPool2D(pool_size=2, strides=2))  "
   ]
  },
  {
   "cell_type": "code",
   "execution_count": null,
   "id": "3a8976c6",
   "metadata": {},
   "outputs": [],
   "source": []
  },
  {
   "cell_type": "code",
   "execution_count": 17,
   "id": "ae47cee3",
   "metadata": {},
   "outputs": [],
   "source": [
    "# Step3: Flattening"
   ]
  },
  {
   "cell_type": "code",
   "execution_count": 18,
   "id": "c53e9e9e",
   "metadata": {},
   "outputs": [],
   "source": [
    "cnn.add(tf.keras.layers.Flatten())  "
   ]
  },
  {
   "cell_type": "code",
   "execution_count": null,
   "id": "54fc35b6",
   "metadata": {},
   "outputs": [],
   "source": []
  },
  {
   "cell_type": "code",
   "execution_count": 19,
   "id": "4bdf1157",
   "metadata": {},
   "outputs": [],
   "source": [
    "# Step4: Full Conversion"
   ]
  },
  {
   "cell_type": "code",
   "execution_count": null,
   "id": "df80bd11",
   "metadata": {},
   "outputs": [],
   "source": []
  },
  {
   "cell_type": "code",
   "execution_count": 20,
   "id": "fbefa3fe",
   "metadata": {},
   "outputs": [],
   "source": [
    "cnn.add(tf.keras.layers.Dense(units=128, activation='relu'))  "
   ]
  },
  {
   "cell_type": "code",
   "execution_count": null,
   "id": "55ab09ab",
   "metadata": {},
   "outputs": [],
   "source": []
  },
  {
   "cell_type": "code",
   "execution_count": 21,
   "id": "b79376df",
   "metadata": {},
   "outputs": [],
   "source": [
    "# Step5: Output Layer"
   ]
  },
  {
   "cell_type": "code",
   "execution_count": 22,
   "id": "99a3ab7a",
   "metadata": {},
   "outputs": [],
   "source": [
    "cnn.add(tf.keras.layers.Dense(units=1, activation='sigmoid'))  "
   ]
  },
  {
   "cell_type": "code",
   "execution_count": null,
   "id": "90f5ce54",
   "metadata": {},
   "outputs": [],
   "source": []
  },
  {
   "cell_type": "code",
   "execution_count": 23,
   "id": "40f17484",
   "metadata": {},
   "outputs": [],
   "source": [
    "# Part3: Training the CNN"
   ]
  },
  {
   "cell_type": "code",
   "execution_count": null,
   "id": "aecf6795",
   "metadata": {},
   "outputs": [],
   "source": []
  },
  {
   "cell_type": "code",
   "execution_count": 24,
   "id": "23225095",
   "metadata": {},
   "outputs": [],
   "source": [
    "# Compiling the CNN"
   ]
  },
  {
   "cell_type": "code",
   "execution_count": 25,
   "id": "e36fd8a7",
   "metadata": {},
   "outputs": [],
   "source": [
    "cnn.compile(optimizer = 'adam', loss = 'binary_crossentropy', metrics = ['accuracy'])  "
   ]
  },
  {
   "cell_type": "code",
   "execution_count": null,
   "id": "8250efd8",
   "metadata": {},
   "outputs": [],
   "source": []
  },
  {
   "cell_type": "code",
   "execution_count": 26,
   "id": "7df9ecc6",
   "metadata": {},
   "outputs": [],
   "source": [
    "# Training the CNN on the Training set and evaluation on the Test set"
   ]
  },
  {
   "cell_type": "code",
   "execution_count": null,
   "id": "c832bbdf",
   "metadata": {},
   "outputs": [],
   "source": []
  },
  {
   "cell_type": "code",
   "execution_count": 77,
   "id": "978cc1b9",
   "metadata": {},
   "outputs": [
    {
     "name": "stdout",
     "output_type": "stream",
     "text": [
      "Epoch 1/100\n",
      "196/196 [==============================] - 49s 249ms/step - loss: 0.0397 - accuracy: 0.9856 - val_loss: 0.7861 - val_accuracy: 0.8537\n",
      "Epoch 2/100\n",
      "196/196 [==============================] - 47s 239ms/step - loss: 0.0356 - accuracy: 0.9866 - val_loss: 0.9651 - val_accuracy: 0.8404\n",
      "Epoch 3/100\n",
      "196/196 [==============================] - 46s 238ms/step - loss: 0.0367 - accuracy: 0.9883 - val_loss: 0.7496 - val_accuracy: 0.8585\n",
      "Epoch 4/100\n",
      "196/196 [==============================] - 47s 239ms/step - loss: 0.0399 - accuracy: 0.9872 - val_loss: 0.8985 - val_accuracy: 0.8482\n",
      "Epoch 5/100\n",
      "196/196 [==============================] - 47s 238ms/step - loss: 0.0434 - accuracy: 0.9848 - val_loss: 0.7900 - val_accuracy: 0.8431\n",
      "Epoch 6/100\n",
      "196/196 [==============================] - 46s 237ms/step - loss: 0.0241 - accuracy: 0.9918 - val_loss: 0.9901 - val_accuracy: 0.8296\n",
      "Epoch 7/100\n",
      "196/196 [==============================] - 46s 237ms/step - loss: 0.0240 - accuracy: 0.9910 - val_loss: 0.8669 - val_accuracy: 0.8532\n",
      "Epoch 8/100\n",
      "196/196 [==============================] - 47s 239ms/step - loss: 0.0416 - accuracy: 0.9856 - val_loss: 0.8770 - val_accuracy: 0.8429\n",
      "Epoch 9/100\n",
      "196/196 [==============================] - 47s 240ms/step - loss: 0.0247 - accuracy: 0.9920 - val_loss: 0.9458 - val_accuracy: 0.8556\n",
      "Epoch 10/100\n",
      "196/196 [==============================] - 46s 238ms/step - loss: 0.0360 - accuracy: 0.9885 - val_loss: 1.0059 - val_accuracy: 0.8573\n",
      "Epoch 11/100\n",
      "196/196 [==============================] - 46s 237ms/step - loss: 0.0323 - accuracy: 0.9875 - val_loss: 0.9708 - val_accuracy: 0.8479\n",
      "Epoch 12/100\n",
      "196/196 [==============================] - 46s 235ms/step - loss: 0.0407 - accuracy: 0.9862 - val_loss: 0.9495 - val_accuracy: 0.8405\n",
      "Epoch 13/100\n",
      "196/196 [==============================] - 46s 236ms/step - loss: 0.0152 - accuracy: 0.9952 - val_loss: 0.8425 - val_accuracy: 0.8565\n",
      "Epoch 14/100\n",
      "196/196 [==============================] - 46s 236ms/step - loss: 0.0268 - accuracy: 0.9909 - val_loss: 1.2608 - val_accuracy: 0.8173\n",
      "Epoch 15/100\n",
      "196/196 [==============================] - 46s 235ms/step - loss: 0.0531 - accuracy: 0.9821 - val_loss: 0.8163 - val_accuracy: 0.8476\n",
      "Epoch 16/100\n",
      "196/196 [==============================] - 46s 237ms/step - loss: 0.0290 - accuracy: 0.9909 - val_loss: 0.9654 - val_accuracy: 0.8487\n",
      "Epoch 17/100\n",
      "196/196 [==============================] - 47s 239ms/step - loss: 0.0209 - accuracy: 0.9931 - val_loss: 0.9454 - val_accuracy: 0.8436\n",
      "Epoch 18/100\n",
      "196/196 [==============================] - 46s 236ms/step - loss: 0.0253 - accuracy: 0.9910 - val_loss: 0.9028 - val_accuracy: 0.8595\n",
      "Epoch 19/100\n",
      "196/196 [==============================] - 47s 239ms/step - loss: 0.0225 - accuracy: 0.9907 - val_loss: 1.2550 - val_accuracy: 0.8360\n",
      "Epoch 20/100\n",
      "196/196 [==============================] - 46s 236ms/step - loss: 0.0362 - accuracy: 0.9885 - val_loss: 1.0226 - val_accuracy: 0.8511\n",
      "Epoch 21/100\n",
      "196/196 [==============================] - 47s 238ms/step - loss: 0.0246 - accuracy: 0.9907 - val_loss: 1.0474 - val_accuracy: 0.8325\n",
      "Epoch 22/100\n",
      "196/196 [==============================] - 46s 236ms/step - loss: 0.0228 - accuracy: 0.9922 - val_loss: 0.9684 - val_accuracy: 0.8502\n",
      "Epoch 23/100\n",
      "196/196 [==============================] - 46s 236ms/step - loss: 0.0248 - accuracy: 0.9914 - val_loss: 1.0012 - val_accuracy: 0.8569\n",
      "Epoch 24/100\n",
      "196/196 [==============================] - 46s 236ms/step - loss: 0.0272 - accuracy: 0.9917 - val_loss: 1.0721 - val_accuracy: 0.8470\n",
      "Epoch 25/100\n",
      "196/196 [==============================] - 46s 235ms/step - loss: 0.0191 - accuracy: 0.9936 - val_loss: 1.0281 - val_accuracy: 0.8471\n",
      "Epoch 26/100\n",
      "196/196 [==============================] - 46s 236ms/step - loss: 0.0186 - accuracy: 0.9942 - val_loss: 1.1364 - val_accuracy: 0.8499\n",
      "Epoch 27/100\n",
      "196/196 [==============================] - 46s 236ms/step - loss: 0.0336 - accuracy: 0.9890 - val_loss: 1.0225 - val_accuracy: 0.8502\n",
      "Epoch 28/100\n",
      "196/196 [==============================] - 46s 234ms/step - loss: 0.0452 - accuracy: 0.9864 - val_loss: 1.0140 - val_accuracy: 0.8487\n",
      "Epoch 29/100\n",
      "196/196 [==============================] - 46s 234ms/step - loss: 0.0154 - accuracy: 0.9958 - val_loss: 0.9576 - val_accuracy: 0.8428\n",
      "Epoch 30/100\n",
      "196/196 [==============================] - 46s 236ms/step - loss: 0.0134 - accuracy: 0.9955 - val_loss: 1.1114 - val_accuracy: 0.8471\n",
      "Epoch 31/100\n",
      "196/196 [==============================] - 46s 235ms/step - loss: 0.0119 - accuracy: 0.9963 - val_loss: 1.2677 - val_accuracy: 0.8344\n",
      "Epoch 32/100\n",
      "196/196 [==============================] - 46s 235ms/step - loss: 0.0274 - accuracy: 0.9904 - val_loss: 0.9618 - val_accuracy: 0.8539\n",
      "Epoch 33/100\n",
      "196/196 [==============================] - 46s 234ms/step - loss: 0.0287 - accuracy: 0.9901 - val_loss: 0.9468 - val_accuracy: 0.8585\n",
      "Epoch 34/100\n",
      "196/196 [==============================] - 46s 236ms/step - loss: 0.0154 - accuracy: 0.9950 - val_loss: 1.1051 - val_accuracy: 0.8539\n",
      "Epoch 35/100\n",
      "196/196 [==============================] - 46s 235ms/step - loss: 0.0114 - accuracy: 0.9957 - val_loss: 1.1646 - val_accuracy: 0.8441\n",
      "Epoch 36/100\n",
      "196/196 [==============================] - 46s 237ms/step - loss: 0.0203 - accuracy: 0.9928 - val_loss: 0.9691 - val_accuracy: 0.8579\n",
      "Epoch 37/100\n",
      "196/196 [==============================] - 46s 237ms/step - loss: 0.0186 - accuracy: 0.9934 - val_loss: 1.1344 - val_accuracy: 0.8455\n",
      "Epoch 38/100\n",
      "196/196 [==============================] - 46s 237ms/step - loss: 0.0364 - accuracy: 0.9875 - val_loss: 1.0863 - val_accuracy: 0.8431\n",
      "Epoch 39/100\n",
      "196/196 [==============================] - 46s 237ms/step - loss: 0.0320 - accuracy: 0.9891 - val_loss: 0.9817 - val_accuracy: 0.8529\n",
      "Epoch 40/100\n",
      "196/196 [==============================] - 46s 235ms/step - loss: 0.0141 - accuracy: 0.9957 - val_loss: 1.1537 - val_accuracy: 0.8547\n",
      "Epoch 41/100\n",
      "196/196 [==============================] - 46s 237ms/step - loss: 0.0154 - accuracy: 0.9958 - val_loss: 1.3948 - val_accuracy: 0.8355\n",
      "Epoch 42/100\n",
      "196/196 [==============================] - 46s 237ms/step - loss: 0.0284 - accuracy: 0.9922 - val_loss: 1.0357 - val_accuracy: 0.8425\n",
      "Epoch 43/100\n",
      "196/196 [==============================] - 46s 237ms/step - loss: 0.0227 - accuracy: 0.9925 - val_loss: 1.3822 - val_accuracy: 0.8267\n",
      "Epoch 44/100\n",
      "196/196 [==============================] - 46s 236ms/step - loss: 0.0263 - accuracy: 0.9910 - val_loss: 1.0479 - val_accuracy: 0.8518\n",
      "Epoch 45/100\n",
      "196/196 [==============================] - 46s 234ms/step - loss: 0.0241 - accuracy: 0.9918 - val_loss: 1.0378 - val_accuracy: 0.8474\n",
      "Epoch 46/100\n",
      "196/196 [==============================] - 46s 235ms/step - loss: 0.0120 - accuracy: 0.9957 - val_loss: 1.0950 - val_accuracy: 0.8394\n",
      "Epoch 47/100\n",
      "196/196 [==============================] - 46s 236ms/step - loss: 0.0176 - accuracy: 0.9942 - val_loss: 1.1582 - val_accuracy: 0.8341\n",
      "Epoch 48/100\n",
      "196/196 [==============================] - 46s 235ms/step - loss: 0.0078 - accuracy: 0.9978 - val_loss: 1.3424 - val_accuracy: 0.8383\n",
      "Epoch 49/100\n",
      "196/196 [==============================] - 47s 239ms/step - loss: 0.0185 - accuracy: 0.9942 - val_loss: 1.1172 - val_accuracy: 0.8500\n",
      "Epoch 50/100\n",
      "196/196 [==============================] - 46s 237ms/step - loss: 0.0260 - accuracy: 0.9934 - val_loss: 1.0717 - val_accuracy: 0.8521\n",
      "Epoch 51/100\n",
      "196/196 [==============================] - 46s 237ms/step - loss: 0.0189 - accuracy: 0.9941 - val_loss: 1.2168 - val_accuracy: 0.8565\n",
      "Epoch 52/100\n",
      "196/196 [==============================] - 46s 237ms/step - loss: 0.0213 - accuracy: 0.9926 - val_loss: 1.1915 - val_accuracy: 0.8462\n",
      "Epoch 53/100\n",
      "196/196 [==============================] - 46s 237ms/step - loss: 0.0361 - accuracy: 0.9894 - val_loss: 1.2997 - val_accuracy: 0.8346\n",
      "Epoch 54/100\n",
      "196/196 [==============================] - 46s 236ms/step - loss: 0.0253 - accuracy: 0.9917 - val_loss: 1.2308 - val_accuracy: 0.8426\n",
      "Epoch 55/100\n",
      "196/196 [==============================] - 46s 236ms/step - loss: 0.0206 - accuracy: 0.9926 - val_loss: 1.1591 - val_accuracy: 0.8462\n",
      "Epoch 56/100\n",
      "196/196 [==============================] - 46s 237ms/step - loss: 0.0157 - accuracy: 0.9955 - val_loss: 1.1338 - val_accuracy: 0.8531\n"
     ]
    },
    {
     "name": "stdout",
     "output_type": "stream",
     "text": [
      "Epoch 57/100\n",
      "196/196 [==============================] - 46s 237ms/step - loss: 0.0143 - accuracy: 0.9957 - val_loss: 1.0462 - val_accuracy: 0.8571\n",
      "Epoch 58/100\n",
      "196/196 [==============================] - 47s 238ms/step - loss: 0.0110 - accuracy: 0.9963 - val_loss: 1.1680 - val_accuracy: 0.8500\n",
      "Epoch 59/100\n",
      "196/196 [==============================] - 46s 237ms/step - loss: 0.0085 - accuracy: 0.9971 - val_loss: 1.1917 - val_accuracy: 0.8499\n",
      "Epoch 60/100\n",
      "196/196 [==============================] - 46s 237ms/step - loss: 0.0116 - accuracy: 0.9968 - val_loss: 1.3548 - val_accuracy: 0.8383\n",
      "Epoch 61/100\n",
      "196/196 [==============================] - 385s 2s/step - loss: 0.0244 - accuracy: 0.9914 - val_loss: 1.6174 - val_accuracy: 0.8193\n",
      "Epoch 62/100\n",
      "196/196 [==============================] - 47s 239ms/step - loss: 0.0217 - accuracy: 0.9922 - val_loss: 1.3023 - val_accuracy: 0.8534\n",
      "Epoch 63/100\n",
      "196/196 [==============================] - 47s 239ms/step - loss: 0.0190 - accuracy: 0.9920 - val_loss: 1.2551 - val_accuracy: 0.8482\n",
      "Epoch 64/100\n",
      "196/196 [==============================] - 47s 239ms/step - loss: 0.0134 - accuracy: 0.9955 - val_loss: 1.2828 - val_accuracy: 0.8479\n",
      "Epoch 65/100\n",
      "196/196 [==============================] - 47s 238ms/step - loss: 0.0134 - accuracy: 0.9962 - val_loss: 1.1990 - val_accuracy: 0.8605\n",
      "Epoch 66/100\n",
      "196/196 [==============================] - 48s 243ms/step - loss: 0.0066 - accuracy: 0.9978 - val_loss: 1.0915 - val_accuracy: 0.8579\n",
      "Epoch 67/100\n",
      "196/196 [==============================] - 48s 244ms/step - loss: 0.0296 - accuracy: 0.9907 - val_loss: 1.3956 - val_accuracy: 0.8244\n",
      "Epoch 68/100\n",
      "196/196 [==============================] - 50s 253ms/step - loss: 0.0170 - accuracy: 0.9934 - val_loss: 1.1320 - val_accuracy: 0.8449\n",
      "Epoch 69/100\n",
      "196/196 [==============================] - 48s 247ms/step - loss: 0.0189 - accuracy: 0.9941 - val_loss: 1.3983 - val_accuracy: 0.8465\n",
      "Epoch 70/100\n",
      "196/196 [==============================] - 47s 240ms/step - loss: 0.0146 - accuracy: 0.9950 - val_loss: 1.1286 - val_accuracy: 0.8516\n",
      "Epoch 71/100\n",
      "196/196 [==============================] - 47s 240ms/step - loss: 0.0328 - accuracy: 0.9891 - val_loss: 1.3754 - val_accuracy: 0.8466\n",
      "Epoch 72/100\n",
      "196/196 [==============================] - 47s 239ms/step - loss: 0.0219 - accuracy: 0.9950 - val_loss: 1.2155 - val_accuracy: 0.8453\n",
      "Epoch 73/100\n",
      "196/196 [==============================] - 46s 237ms/step - loss: 0.0084 - accuracy: 0.9974 - val_loss: 1.3791 - val_accuracy: 0.8474\n",
      "Epoch 74/100\n",
      "196/196 [==============================] - 46s 237ms/step - loss: 0.0233 - accuracy: 0.9923 - val_loss: 1.2423 - val_accuracy: 0.8482\n",
      "Epoch 75/100\n",
      "196/196 [==============================] - 47s 238ms/step - loss: 0.0172 - accuracy: 0.9958 - val_loss: 1.4416 - val_accuracy: 0.8325\n",
      "Epoch 76/100\n",
      "196/196 [==============================] - 47s 239ms/step - loss: 0.0189 - accuracy: 0.9952 - val_loss: 1.1596 - val_accuracy: 0.8457\n",
      "Epoch 77/100\n",
      "196/196 [==============================] - 47s 241ms/step - loss: 0.0129 - accuracy: 0.9958 - val_loss: 1.1659 - val_accuracy: 0.8500\n",
      "Epoch 78/100\n",
      "196/196 [==============================] - 46s 237ms/step - loss: 0.0102 - accuracy: 0.9965 - val_loss: 1.1879 - val_accuracy: 0.8544\n",
      "Epoch 79/100\n",
      "196/196 [==============================] - 47s 239ms/step - loss: 0.0061 - accuracy: 0.9979 - val_loss: 1.1416 - val_accuracy: 0.8574\n",
      "Epoch 80/100\n",
      "196/196 [==============================] - 47s 239ms/step - loss: 0.0052 - accuracy: 0.9982 - val_loss: 1.2620 - val_accuracy: 0.8466\n",
      "Epoch 81/100\n",
      "196/196 [==============================] - 47s 239ms/step - loss: 0.0045 - accuracy: 0.9986 - val_loss: 1.3355 - val_accuracy: 0.8569\n",
      "Epoch 82/100\n",
      "196/196 [==============================] - 47s 238ms/step - loss: 0.0111 - accuracy: 0.9958 - val_loss: 1.2815 - val_accuracy: 0.8547\n",
      "Epoch 83/100\n",
      "196/196 [==============================] - 47s 241ms/step - loss: 0.0111 - accuracy: 0.9963 - val_loss: 1.1807 - val_accuracy: 0.8566\n",
      "Epoch 84/100\n",
      "196/196 [==============================] - 46s 236ms/step - loss: 0.0540 - accuracy: 0.9846 - val_loss: 1.0467 - val_accuracy: 0.8510\n",
      "Epoch 85/100\n",
      "196/196 [==============================] - 47s 239ms/step - loss: 0.0104 - accuracy: 0.9970 - val_loss: 1.1830 - val_accuracy: 0.8524\n",
      "Epoch 86/100\n",
      "196/196 [==============================] - 47s 239ms/step - loss: 0.0150 - accuracy: 0.9946 - val_loss: 1.0855 - val_accuracy: 0.8441\n",
      "Epoch 87/100\n",
      "196/196 [==============================] - 47s 242ms/step - loss: 0.0047 - accuracy: 0.9987 - val_loss: 1.2994 - val_accuracy: 0.8523\n",
      "Epoch 88/100\n",
      "196/196 [==============================] - 47s 241ms/step - loss: 0.0115 - accuracy: 0.9963 - val_loss: 1.3688 - val_accuracy: 0.8494\n",
      "Epoch 89/100\n",
      "196/196 [==============================] - 47s 239ms/step - loss: 0.0172 - accuracy: 0.9936 - val_loss: 1.2047 - val_accuracy: 0.8503\n",
      "Epoch 90/100\n",
      "196/196 [==============================] - 47s 239ms/step - loss: 0.0175 - accuracy: 0.9952 - val_loss: 1.2120 - val_accuracy: 0.8510\n",
      "Epoch 91/100\n",
      "196/196 [==============================] - 46s 236ms/step - loss: 0.0184 - accuracy: 0.9931 - val_loss: 1.2327 - val_accuracy: 0.8478\n",
      "Epoch 92/100\n",
      "196/196 [==============================] - 46s 238ms/step - loss: 0.0324 - accuracy: 0.9904 - val_loss: 1.3726 - val_accuracy: 0.8518\n",
      "Epoch 93/100\n",
      "196/196 [==============================] - 47s 238ms/step - loss: 0.0170 - accuracy: 0.9946 - val_loss: 1.3664 - val_accuracy: 0.8347\n",
      "Epoch 94/100\n",
      "196/196 [==============================] - 47s 239ms/step - loss: 0.0138 - accuracy: 0.9949 - val_loss: 1.2817 - val_accuracy: 0.8502\n",
      "Epoch 95/100\n",
      "196/196 [==============================] - 47s 239ms/step - loss: 0.0111 - accuracy: 0.9973 - val_loss: 1.1236 - val_accuracy: 0.8574\n",
      "Epoch 96/100\n",
      "196/196 [==============================] - 47s 239ms/step - loss: 0.0059 - accuracy: 0.9984 - val_loss: 1.2309 - val_accuracy: 0.8556\n",
      "Epoch 97/100\n",
      "196/196 [==============================] - 46s 237ms/step - loss: 0.0131 - accuracy: 0.9955 - val_loss: 1.4656 - val_accuracy: 0.8420\n",
      "Epoch 98/100\n",
      "196/196 [==============================] - 47s 241ms/step - loss: 0.0202 - accuracy: 0.9933 - val_loss: 1.2237 - val_accuracy: 0.8573\n",
      "Epoch 99/100\n",
      "196/196 [==============================] - 47s 239ms/step - loss: 0.0112 - accuracy: 0.9974 - val_loss: 1.4724 - val_accuracy: 0.8388\n",
      "Epoch 100/100\n",
      "196/196 [==============================] - 46s 237ms/step - loss: 0.0060 - accuracy: 0.9981 - val_loss: 1.2127 - val_accuracy: 0.8542\n"
     ]
    },
    {
     "data": {
      "text/plain": [
       "<keras.callbacks.History at 0x215305b0910>"
      ]
     },
     "execution_count": 77,
     "metadata": {},
     "output_type": "execute_result"
    }
   ],
   "source": [
    "cnn.fit(x = training_set, validation_data = test_set, epochs = 100)  "
   ]
  },
  {
   "cell_type": "code",
   "execution_count": null,
   "id": "d4209791",
   "metadata": {},
   "outputs": [],
   "source": []
  },
  {
   "cell_type": "code",
   "execution_count": 78,
   "id": "708e9a0a",
   "metadata": {},
   "outputs": [
    {
     "data": {
      "text/plain": [
       "{'1': 0, '2': 1}"
      ]
     },
     "execution_count": 78,
     "metadata": {},
     "output_type": "execute_result"
    }
   ],
   "source": [
    "test_set.class_indices  "
   ]
  },
  {
   "cell_type": "code",
   "execution_count": null,
   "id": "06dcc3dd",
   "metadata": {},
   "outputs": [],
   "source": []
  },
  {
   "cell_type": "code",
   "execution_count": 79,
   "id": "0ba34d30",
   "metadata": {},
   "outputs": [
    {
     "data": {
      "text/plain": [
       "{'1': 0, '2': 1}"
      ]
     },
     "execution_count": 79,
     "metadata": {},
     "output_type": "execute_result"
    }
   ],
   "source": [
    "training_set.class_indices  "
   ]
  },
  {
   "cell_type": "code",
   "execution_count": null,
   "id": "936d3e95",
   "metadata": {},
   "outputs": [],
   "source": []
  },
  {
   "cell_type": "code",
   "execution_count": null,
   "id": "c303f71a",
   "metadata": {},
   "outputs": [],
   "source": []
  },
  {
   "cell_type": "code",
   "execution_count": 28,
   "id": "d4102c16",
   "metadata": {},
   "outputs": [],
   "source": [
    "# Part4: Making a single prediction"
   ]
  },
  {
   "cell_type": "code",
   "execution_count": null,
   "id": "56b93dbf",
   "metadata": {},
   "outputs": [],
   "source": []
  },
  {
   "cell_type": "code",
   "execution_count": 80,
   "id": "de932d19",
   "metadata": {},
   "outputs": [
    {
     "name": "stdout",
     "output_type": "stream",
     "text": [
      "1/1 [==============================] - 0s 18ms/step\n",
      "not adult\n",
      "0.0\n"
     ]
    }
   ],
   "source": [
    "import numpy as np  \n",
    "import keras.utils as image\n",
    "\n",
    "test_image = image.load_img('C:/Users/HI/Desktop/mk/adultclassifier/adult/na.jpg', target_size = (64, 64))  \n",
    "test_image = image.img_to_array(test_image) \n",
    "test_image = np.expand_dims(test_image, axis = 0)  \n",
    "result = cnn.predict(test_image)  \n",
    "\n",
    "if result[0][0] == 1:  \n",
    "  prediction = 'adult'  \n",
    "else:  \n",
    "  prediction = 'not adult'  \n",
    "  \n",
    "print(prediction)\n",
    "print(result[0][0])"
   ]
  },
  {
   "cell_type": "code",
   "execution_count": null,
   "id": "f4f66de2",
   "metadata": {},
   "outputs": [],
   "source": []
  },
  {
   "cell_type": "code",
   "execution_count": null,
   "id": "f3ca8c79",
   "metadata": {},
   "outputs": [],
   "source": []
  },
  {
   "cell_type": "code",
   "execution_count": 81,
   "id": "9232e71d",
   "metadata": {},
   "outputs": [
    {
     "name": "stdout",
     "output_type": "stream",
     "text": [
      "1/1 [==============================] - 0s 10ms/step\n",
      "not adult\n",
      "0.0\n"
     ]
    }
   ],
   "source": [
    "test_image = image.load_img('C:/Users/HI/Desktop/mk/adultclassifier/adult/na2.jpg', target_size = (64, 64))  \n",
    "test_image = image.img_to_array(test_image) \n",
    "test_image = np.expand_dims(test_image, axis = 0)  \n",
    "result = cnn.predict(test_image) \n",
    "\n",
    "if result[0][0] == 1:  \n",
    "  prediction = 'adult'  \n",
    "else:  \n",
    "  prediction = 'not adult'  \n",
    "  \n",
    "print(prediction)\n",
    "print(result[0][0])"
   ]
  },
  {
   "cell_type": "code",
   "execution_count": null,
   "id": "18465bd6",
   "metadata": {},
   "outputs": [],
   "source": []
  },
  {
   "cell_type": "code",
   "execution_count": null,
   "id": "e4a309e0",
   "metadata": {},
   "outputs": [],
   "source": []
  },
  {
   "cell_type": "code",
   "execution_count": 82,
   "id": "9b627966",
   "metadata": {},
   "outputs": [
    {
     "name": "stdout",
     "output_type": "stream",
     "text": [
      "1/1 [==============================] - 0s 8ms/step\n",
      "not adult\n",
      "0.0\n"
     ]
    }
   ],
   "source": [
    "test_image = image.load_img('C:/Users/HI/Desktop/mk/adultclassifier/adult/na3.jpg', target_size = (64, 64))  \n",
    "test_image = image.img_to_array(test_image) \n",
    "test_image = np.expand_dims(test_image, axis = 0)  \n",
    "result = cnn.predict(test_image) \n",
    "\n",
    "if result[0][0] == 1:  \n",
    "  prediction = 'adult'  \n",
    "else:  \n",
    "  prediction = 'not adult'  \n",
    "  \n",
    "print(prediction)\n",
    "print(result[0][0])"
   ]
  },
  {
   "cell_type": "code",
   "execution_count": null,
   "id": "c0978f6a",
   "metadata": {},
   "outputs": [],
   "source": []
  },
  {
   "cell_type": "code",
   "execution_count": null,
   "id": "31491a7a",
   "metadata": {},
   "outputs": [],
   "source": []
  },
  {
   "cell_type": "code",
   "execution_count": 83,
   "id": "8283ea34",
   "metadata": {},
   "outputs": [
    {
     "name": "stdout",
     "output_type": "stream",
     "text": [
      "1/1 [==============================] - 0s 22ms/step\n",
      "not adult\n",
      "0.0\n"
     ]
    }
   ],
   "source": [
    "test_image = image.load_img('C:/Users/HI/Desktop/mk/adultclassifier/adult/ad8.JFIF', target_size = (64, 64))  \n",
    "test_image = image.img_to_array(test_image) \n",
    "test_image = np.expand_dims(test_image, axis = 0)  \n",
    "result = cnn.predict(test_image) \n",
    "\n",
    "if result[0][0] == 1:  \n",
    "  prediction = 'adult'  \n",
    "else:  \n",
    "  prediction = 'not adult'  \n",
    "  \n",
    "print(prediction)\n",
    "print(result[0][0])"
   ]
  },
  {
   "cell_type": "code",
   "execution_count": null,
   "id": "6953f082",
   "metadata": {},
   "outputs": [],
   "source": []
  },
  {
   "cell_type": "code",
   "execution_count": null,
   "id": "a85c6864",
   "metadata": {},
   "outputs": [],
   "source": []
  },
  {
   "cell_type": "code",
   "execution_count": null,
   "id": "3073b5c7",
   "metadata": {},
   "outputs": [],
   "source": []
  },
  {
   "cell_type": "code",
   "execution_count": 84,
   "id": "739d8a2d",
   "metadata": {},
   "outputs": [
    {
     "name": "stdout",
     "output_type": "stream",
     "text": [
      "1/1 [==============================] - 0s 13ms/step\n",
      "not adult\n",
      "0.0\n"
     ]
    }
   ],
   "source": [
    "test_image = image.load_img('C:/Users/HI/Desktop/mk/adultclassifier/adult/ad9.JFIF', target_size = (64, 64))  \n",
    "test_image = image.img_to_array(test_image) \n",
    "test_image = np.expand_dims(test_image, axis = 0)  \n",
    "result = cnn.predict(test_image) \n",
    "\n",
    "if result[0][0] == 1:  \n",
    "  prediction = 'adult'  \n",
    "else:  \n",
    "  prediction = 'not adult'  \n",
    "  \n",
    "print(prediction)\n",
    "print(result[0][0])"
   ]
  },
  {
   "cell_type": "code",
   "execution_count": null,
   "id": "0b611a44",
   "metadata": {},
   "outputs": [],
   "source": []
  },
  {
   "cell_type": "code",
   "execution_count": 96,
   "id": "9bad4b6f",
   "metadata": {},
   "outputs": [
    {
     "name": "stdout",
     "output_type": "stream",
     "text": [
      "1/1 [==============================] - 0s 73ms/step\n",
      "adult\n",
      "1.0\n"
     ]
    }
   ],
   "source": [
    "test_image = image.load_img('C:/Users/HI/Desktop/mk/adultclassifier/adult/ad12.jpeg', target_size = (64, 64))  \n",
    "test_image = image.img_to_array(test_image) \n",
    "test_image = np.expand_dims(test_image, axis = 0)  \n",
    "result = cnn.predict(test_image) \n",
    "\n",
    "if result[0][0] == 1:  \n",
    "  prediction = 'adult'  \n",
    "else:  \n",
    "  prediction = 'not adult'  \n",
    "  \n",
    "print(prediction)\n",
    "print(result[0][0])"
   ]
  },
  {
   "cell_type": "code",
   "execution_count": null,
   "id": "5a9e1b3f",
   "metadata": {},
   "outputs": [],
   "source": []
  },
  {
   "cell_type": "code",
   "execution_count": null,
   "id": "ab771db3",
   "metadata": {},
   "outputs": [],
   "source": []
  },
  {
   "cell_type": "code",
   "execution_count": null,
   "id": "f93b0e40",
   "metadata": {},
   "outputs": [],
   "source": []
  },
  {
   "cell_type": "code",
   "execution_count": null,
   "id": "214a93b9",
   "metadata": {},
   "outputs": [],
   "source": []
  },
  {
   "cell_type": "code",
   "execution_count": 35,
   "id": "ef1d962f",
   "metadata": {},
   "outputs": [],
   "source": [
    "# Now we will check for the other image which is of the adult"
   ]
  },
  {
   "cell_type": "code",
   "execution_count": null,
   "id": "e335fad7",
   "metadata": {},
   "outputs": [],
   "source": []
  },
  {
   "cell_type": "code",
   "execution_count": 89,
   "id": "b5de0a31",
   "metadata": {},
   "outputs": [
    {
     "name": "stdout",
     "output_type": "stream",
     "text": [
      "1/1 [==============================] - 0s 15ms/step\n",
      "adult\n",
      "1.0\n"
     ]
    }
   ],
   "source": [
    "test_image = image.load_img('C:/Users/HI/Desktop/mk/adultclassifier/adult/ad1.jpg', target_size = (64, 64)) \n",
    "test_image = image.img_to_array(test_image)  \n",
    "test_image = np.expand_dims(test_image, axis = 0) \n",
    "result = cnn.predict(test_image)  \n",
    "\n",
    "if result[0][0] == 1:  \n",
    "  prediction = 'adult'  \n",
    "else:  \n",
    "  prediction = 'not adult'  \n",
    "  \n",
    "print(prediction)\n",
    "print(result[0][0])"
   ]
  },
  {
   "cell_type": "code",
   "execution_count": 37,
   "id": "db5dd617",
   "metadata": {},
   "outputs": [],
   "source": []
  },
  {
   "cell_type": "code",
   "execution_count": 38,
   "id": "d7edb26b",
   "metadata": {},
   "outputs": [],
   "source": []
  },
  {
   "cell_type": "code",
   "execution_count": 87,
   "id": "7ddc550d",
   "metadata": {},
   "outputs": [
    {
     "name": "stdout",
     "output_type": "stream",
     "text": [
      "1/1 [==============================] - 0s 13ms/step\n",
      "adult\n",
      "1.0\n"
     ]
    }
   ],
   "source": [
    "test_image = image.load_img('C:/Users/HI/Desktop/mk/adultclassifier/adult/ad11.JFIF', target_size = (64, 64)) \n",
    "test_image = image.img_to_array(test_image)  \n",
    "test_image = np.expand_dims(test_image, axis = 0) \n",
    "result = cnn.predict(test_image)  \n",
    "\n",
    "if result[0][0] == 1:  \n",
    "  prediction = 'adult'  \n",
    "else:  \n",
    "  prediction = 'not adult'  \n",
    "  \n",
    "print(prediction)\n",
    "print(result[0][0])"
   ]
  },
  {
   "cell_type": "code",
   "execution_count": null,
   "id": "63a2c6b9",
   "metadata": {},
   "outputs": [],
   "source": []
  },
  {
   "cell_type": "code",
   "execution_count": null,
   "id": "89ffa897",
   "metadata": {},
   "outputs": [],
   "source": []
  },
  {
   "cell_type": "code",
   "execution_count": 93,
   "id": "3da58d00",
   "metadata": {},
   "outputs": [
    {
     "name": "stdout",
     "output_type": "stream",
     "text": [
      "1/1 [==============================] - 0s 90ms/step\n",
      "adult\n",
      "1.0\n"
     ]
    }
   ],
   "source": [
    "test_image = image.load_img('C:/Users/HI/Desktop/mk/adultclassifier/adult/na8.JFIF', target_size = (64, 64)) \n",
    "test_image = image.img_to_array(test_image)  \n",
    "test_image = np.expand_dims(test_image, axis = 0) \n",
    "result = cnn.predict(test_image)  \n",
    "\n",
    "if result[0][0] == 1:  \n",
    "  prediction = 'adult'  \n",
    "else:  \n",
    "  prediction = 'not adult'  \n",
    "  \n",
    "print(prediction)\n",
    "print(result[0][0])"
   ]
  },
  {
   "cell_type": "code",
   "execution_count": null,
   "id": "33e9d233",
   "metadata": {},
   "outputs": [],
   "source": []
  },
  {
   "cell_type": "code",
   "execution_count": null,
   "id": "faf253b5",
   "metadata": {},
   "outputs": [],
   "source": []
  },
  {
   "cell_type": "code",
   "execution_count": null,
   "id": "2293dbda",
   "metadata": {},
   "outputs": [],
   "source": []
  },
  {
   "cell_type": "code",
   "execution_count": null,
   "id": "254c342b",
   "metadata": {},
   "outputs": [],
   "source": []
  },
  {
   "cell_type": "code",
   "execution_count": null,
   "id": "353f8c76",
   "metadata": {},
   "outputs": [],
   "source": []
  },
  {
   "cell_type": "code",
   "execution_count": null,
   "id": "f90d319a",
   "metadata": {},
   "outputs": [],
   "source": []
  },
  {
   "cell_type": "code",
   "execution_count": null,
   "id": "61b4d4df",
   "metadata": {},
   "outputs": [],
   "source": []
  },
  {
   "cell_type": "code",
   "execution_count": null,
   "id": "09f61fde",
   "metadata": {},
   "outputs": [],
   "source": []
  },
  {
   "cell_type": "code",
   "execution_count": null,
   "id": "fd1ac06e",
   "metadata": {},
   "outputs": [],
   "source": []
  },
  {
   "cell_type": "code",
   "execution_count": null,
   "id": "bf1f616c",
   "metadata": {},
   "outputs": [],
   "source": []
  },
  {
   "cell_type": "code",
   "execution_count": null,
   "id": "0349d6cc",
   "metadata": {},
   "outputs": [],
   "source": []
  },
  {
   "cell_type": "code",
   "execution_count": null,
   "id": "3e9ae60d",
   "metadata": {},
   "outputs": [],
   "source": []
  },
  {
   "cell_type": "code",
   "execution_count": null,
   "id": "a4d38dfa",
   "metadata": {},
   "outputs": [],
   "source": []
  },
  {
   "cell_type": "code",
   "execution_count": null,
   "id": "29a11acb",
   "metadata": {},
   "outputs": [],
   "source": []
  },
  {
   "cell_type": "code",
   "execution_count": null,
   "id": "eb0f0f18",
   "metadata": {},
   "outputs": [],
   "source": []
  },
  {
   "cell_type": "code",
   "execution_count": null,
   "id": "e78a3773",
   "metadata": {},
   "outputs": [],
   "source": []
  },
  {
   "cell_type": "code",
   "execution_count": null,
   "id": "e473df51",
   "metadata": {},
   "outputs": [],
   "source": []
  },
  {
   "cell_type": "code",
   "execution_count": null,
   "id": "c189f6b9",
   "metadata": {},
   "outputs": [],
   "source": []
  },
  {
   "cell_type": "code",
   "execution_count": null,
   "id": "1e799c2f",
   "metadata": {},
   "outputs": [],
   "source": []
  },
  {
   "cell_type": "code",
   "execution_count": null,
   "id": "7c9f9396",
   "metadata": {},
   "outputs": [],
   "source": []
  },
  {
   "cell_type": "code",
   "execution_count": null,
   "id": "0b080c03",
   "metadata": {},
   "outputs": [],
   "source": []
  }
 ],
 "metadata": {
  "kernelspec": {
   "display_name": "Python 3 (ipykernel)",
   "language": "python",
   "name": "python3"
  },
  "language_info": {
   "codemirror_mode": {
    "name": "ipython",
    "version": 3
   },
   "file_extension": ".py",
   "mimetype": "text/x-python",
   "name": "python",
   "nbconvert_exporter": "python",
   "pygments_lexer": "ipython3",
   "version": "3.10.9"
  }
 },
 "nbformat": 4,
 "nbformat_minor": 5
}
